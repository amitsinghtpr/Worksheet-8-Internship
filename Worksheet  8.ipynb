{
 "cells": [
  {
   "cell_type": "markdown",
   "id": "19ec94f1",
   "metadata": {},
   "source": [
    "1). What will be the output of the following code snippet?\n",
    "\n",
    "def func(a, b):\n",
    " return b if a == 0 else func(b % a, a)\n",
    "print(func(30, 75))"
   ]
  },
  {
   "cell_type": "markdown",
   "id": "4b13f512",
   "metadata": {},
   "source": [
    "Ans:15"
   ]
  },
  {
   "cell_type": "markdown",
   "id": "7d974955",
   "metadata": {},
   "source": [
    "2). numbers = (4, 7, 19, 2, 89, 45, 72, 22)\n",
    "sorted_numbers = sorted(numbers)\n",
    "even = lambda a: a % 2 == 0\n",
    "even_numbers = filter(even, sorted_numbers)\n",
    "print(type(even_numbers))"
   ]
  },
  {
   "cell_type": "markdown",
   "id": "299aef2c",
   "metadata": {},
   "source": [
    "Ans: Filter"
   ]
  },
  {
   "cell_type": "markdown",
   "id": "507d72df",
   "metadata": {},
   "source": [
    "3). As what datatype are the *args stored, when passed into"
   ]
  },
  {
   "cell_type": "markdown",
   "id": "7f6f0445",
   "metadata": {},
   "source": [
    "Ans: Tuple"
   ]
  },
  {
   "cell_type": "markdown",
   "id": "30b03a89",
   "metadata": {},
   "source": [
    "4). set1 = {14, 3, 55}\n",
    "set2 = {82, 49, 62}\n",
    "set3 = {99,22,17}\n",
    "print(len(set1 + set2 + set3))"
   ]
  },
  {
   "cell_type": "markdown",
   "id": "13db9903",
   "metadata": {},
   "source": [
    "Ans: Error."
   ]
  },
  {
   "cell_type": "markdown",
   "id": "e29afdcb",
   "metadata": {},
   "source": [
    "5) What keyword is used in Python to raise exceptions?"
   ]
  },
  {
   "cell_type": "markdown",
   "id": "6f1a9c3c",
   "metadata": {},
   "source": [
    "Ans: try"
   ]
  },
  {
   "cell_type": "markdown",
   "id": "f3f98bba",
   "metadata": {},
   "source": [
    "6) Which of the following modules need to be imported to handle date time computations in \n",
    "Python?"
   ]
  },
  {
   "cell_type": "markdown",
   "id": "4cbe08d9",
   "metadata": {},
   "source": [
    "Ans: datetime"
   ]
  },
  {
   "cell_type": "markdown",
   "id": "5f9c980f",
   "metadata": {},
   "source": [
    "7) What will be the output of the following code snippet?\n",
    "\n",
    "print(4**3 + (7 + 5)**(1 + 1))"
   ]
  },
  {
   "cell_type": "markdown",
   "id": "5125e52a",
   "metadata": {},
   "source": [
    "Ans: 208"
   ]
  },
  {
   "cell_type": "markdown",
   "id": "a2440a54",
   "metadata": {},
   "source": [
    "8) Which of the following functions converts date to corresponding time in Python?"
   ]
  },
  {
   "cell_type": "markdown",
   "id": "82eea4e5",
   "metadata": {},
   "source": [
    "Ans: None"
   ]
  },
  {
   "cell_type": "markdown",
   "id": "15cfa923",
   "metadata": {},
   "source": [
    "9) The python tuple is _____ in nature."
   ]
  },
  {
   "cell_type": "markdown",
   "id": "02e18c6f",
   "metadata": {},
   "source": [
    "Ans: Immutable"
   ]
  },
  {
   "cell_type": "markdown",
   "id": "56b8ea2f",
   "metadata": {},
   "source": [
    "10)The ___ is a built-in function that returns a range object that consists series of integer numbers, which \n",
    "we can iterate using a for loop."
   ]
  },
  {
   "cell_type": "markdown",
   "id": "6aba96f0",
   "metadata": {},
   "source": [
    "Ans: set()"
   ]
  },
  {
   "cell_type": "markdown",
   "id": "756223d1",
   "metadata": {},
   "source": [
    "11).Amongst which of the following is a function which does not have any name?"
   ]
  },
  {
   "cell_type": "markdown",
   "id": "d753db23",
   "metadata": {},
   "source": [
    "Ans: Lambda Function"
   ]
  },
  {
   "cell_type": "markdown",
   "id": "e8cca7b2",
   "metadata": {},
   "source": [
    "12).The module Pickle is used to ___."
   ]
  },
  {
   "cell_type": "markdown",
   "id": "c5c25f19",
   "metadata": {},
   "source": [
    "Ans: a)Serializing Python object structure\n",
    "\n",
    "    B) De- serializing Python object structure"
   ]
  },
  {
   "cell_type": "markdown",
   "id": "fef869ad",
   "metadata": {},
   "source": [
    "13). Amongst which of the following is / are the method of convert Python objects for writing data in \n",
    "a binary file?"
   ]
  },
  {
   "cell_type": "markdown",
   "id": "4b07baa1",
   "metadata": {},
   "source": [
    "Ans: dump() method"
   ]
  },
  {
   "cell_type": "markdown",
   "id": "7c611b63",
   "metadata": {},
   "source": [
    "14).Amongst which of the following is / are the method used to unpickling data from a binary file?\n"
   ]
  },
  {
   "cell_type": "markdown",
   "id": "5651fe5e",
   "metadata": {},
   "source": [
    "Ans: load()"
   ]
  },
  {
   "cell_type": "markdown",
   "id": "eab3de27",
   "metadata": {},
   "source": [
    "15). A text file contains only textual information consisting of ___.\n",
    "A. Alphabets\n",
    "B. Numbers\n",
    "C. Special symbols\n",
    "D. All of the mentioned above"
   ]
  },
  {
   "cell_type": "markdown",
   "id": "8d3d5070",
   "metadata": {},
   "source": [
    "Ans: All of the mentioned above"
   ]
  },
  {
   "cell_type": "markdown",
   "id": "def55610",
   "metadata": {},
   "source": [
    "16).Which Python code could replace the ellipsis (...) below to get the following output? (Select all that \n",
    "apply.)\n",
    "captains = {\n",
    " \"Enterprise\": \"Picard\",\n",
    " \"Voyager\": \"Janeway\",\n",
    " \"Defiant\": \"Sisko\",\n",
    "}\n",
    "Enterprise Picard,\n",
    " Voyager Janeway\n",
    " Defiant Sisko\n"
   ]
  },
  {
   "cell_type": "markdown",
   "id": "c737e7e8",
   "metadata": {},
   "source": [
    "Ans: both a and b"
   ]
  },
  {
   "cell_type": "markdown",
   "id": "7eedaac4",
   "metadata": {},
   "source": [
    "17).Which of the following lines of code will create an empty dictionary named captains?\n",
    "a) captains = {dict}\n",
    "b) type(captains)\n",
    "c) captains.dict()\n",
    "d) captains = {}"
   ]
  },
  {
   "cell_type": "markdown",
   "id": "b279cc4a",
   "metadata": {},
   "source": [
    "Ans: captains={}"
   ]
  },
  {
   "cell_type": "markdown",
   "id": "9c6f45d9",
   "metadata": {},
   "source": [
    "18). Now you have your empty dictionary named captains. It’s time to add some data!\n",
    "Specifically, you want to add the key-value pairs \"Enterprise\": \"Picard\", \"Voyager\": \"Janeway\", \n",
    "and \"Defiant\": \"Sisko\".\n",
    "Which of the following code snippets will successfully add these key-value pairs to the \n",
    "existing captains dictionary?\n",
    "a) captains{\"Enterprise\" = \"Picard\"}\n",
    "captains{\"Voyager\" = \"Janeway\"}\n",
    "captains{\"Defiant\" = \"Sisko\"}\n",
    "b) captains[\"Enterprise\"] = \"Picard\"\n",
    "captains[\"Voyager\"] = \"Janeway\"\n",
    "captains[\"Defiant\"] = \"Sisko\"\n",
    "c) captains = {\n",
    " \"Enterprise\": \"Picard\",\n",
    " \"Voyager\": \"Janeway\",\n",
    " \"Defiant\": \"Sisko\",\n",
    "}\n",
    "d) None of the above"
   ]
  },
  {
   "cell_type": "markdown",
   "id": "01b31ba1",
   "metadata": {},
   "source": [
    "Ans:captains[\"Enterprise\"] = \"Picard\"\n",
    "\n",
    "captains[\"Voyager\"] = \"Janeway\"\n",
    "\n",
    "captains[\"Defiant\"] = \"Sisko\"\n"
   ]
  },
  {
   "cell_type": "markdown",
   "id": "fc191ee9",
   "metadata": {},
   "source": [
    "19 ) You’re really building out the Federation Starfleet now! Here’s what you have:\n",
    "captains = {\n",
    " \"Enterprise\": \"Picard\",\n",
    " \"Voyager\": \"Janeway\",\n",
    " \"Defiant\": \"Sisko\",\n",
    " \"Discovery\": \"unknown\",\n",
    "}Now, say you want to display the ship and captain names contained in the dictionary, but you also \n",
    "want to provide some additional context. How could you do it?"
   ]
  },
  {
   "cell_type": "markdown",
   "id": "c9590ee8",
   "metadata": {},
   "source": [
    "Ans:  for ship, captain in captains.items():\n",
    "\n",
    " print(f\"The {ship} is captained by {captain}.\")"
   ]
  },
  {
   "cell_type": "markdown",
   "id": "ab928f1c",
   "metadata": {},
   "source": [
    "20).You’ve created a dictionary, added data, checked for the existence of keys, and iterated over it with \n",
    "a for loop. Now you’re ready to delete a key from this dictionary:\n",
    "captains = {\n",
    " \"Enterprise\": \"Picard\",\n",
    " \"Voyager\": \"Janeway\",\n",
    " \"Defiant\": \"Sisko\",\n",
    " \"Discovery\": \"unknown\",\n",
    "}\n",
    "What statement will remove the entry for the key \"Discovery\"?\n",
    "a) del captains\n",
    "b) captains.remove()\n",
    "c) del captains[\"Discovery\"]\n",
    "d) captains[\"Discovery\"].pop()"
   ]
  },
  {
   "cell_type": "markdown",
   "id": "e7e61ad9",
   "metadata": {},
   "source": [
    "Ans: del captains[\"Discovery\"]\n"
   ]
  },
  {
   "cell_type": "code",
   "execution_count": null,
   "id": "1606d8c2",
   "metadata": {},
   "outputs": [],
   "source": []
  }
 ],
 "metadata": {
  "kernelspec": {
   "display_name": "Python 3 (ipykernel)",
   "language": "python",
   "name": "python3"
  },
  "language_info": {
   "codemirror_mode": {
    "name": "ipython",
    "version": 3
   },
   "file_extension": ".py",
   "mimetype": "text/x-python",
   "name": "python",
   "nbconvert_exporter": "python",
   "pygments_lexer": "ipython3",
   "version": "3.9.12"
  }
 },
 "nbformat": 4,
 "nbformat_minor": 5
}
